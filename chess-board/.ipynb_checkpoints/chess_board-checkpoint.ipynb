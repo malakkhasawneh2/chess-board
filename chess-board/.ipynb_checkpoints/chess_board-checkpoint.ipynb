{
 "cells": [
  {
   "cell_type": "code",
   "execution_count": 10,
   "metadata": {},
   "outputs": [],
   "source": [
    "import numpy as np\n",
    "\n",
    "%matplotlib inline\n",
    "import matplotlib.pyplot as plt"
   ]
  },
  {
   "cell_type": "code",
   "execution_count": 45,
   "metadata": {},
   "outputs": [],
   "source": [
    "class ChessBoard:\n",
    "    def __init__(self):\n",
    "        self.red_queen=[]\n",
    "        self.blue_queen=[]\n",
    "        \n",
    "        self.board = np.ones([8,8,3])\n",
    "        for i in np.ndindex(8,8):\n",
    "            row = i[0]\n",
    "            col = i[1]\n",
    "            # if row%2==0 and col%2==1 or row%2==1 and col%2==0:\n",
    "            if row%2 != col%2:\n",
    "                self.board[row, col] = [0,0,0]\n",
    "            # print(i, self.board[i])\n",
    "            \n",
    "    def add_red(self,row,col):\n",
    "        red=[1,.2,0]\n",
    "        self.board[col,row]=red\n",
    "        self.red_queen=[col,row]\n",
    "\n",
    "    def add_blue(self,row,col):\n",
    "        blue=[0,1,1]\n",
    "        self.board[col,row]=blue\n",
    "        self.blue_queen=[col,row]\n",
    "\n",
    "    def render(self):\n",
    "        plt.imshow(self.board)\n",
    "    \n",
    "    def is_under_attack(self):\n",
    "        if self.blue_queen[0]==self.red_queen[0]:\n",
    "            return True\n",
    "        elif self.blue_queen[1]==self.red_queen[1]:\n",
    "            return True\n",
    "        elif abs(self.blue_queen[0]-self.red_queen[0])==abs(self.blue_queen[1]-self.red_queen[1]) :\n",
    "            return True\n",
    "        else:\n",
    "            return False"
   ]
  },
  {
   "cell_type": "code",
   "execution_count": 53,
   "metadata": {},
   "outputs": [
    {
     "data": {
      "image/png": "[encoded data removed]",
      "text/plain": [
       "<Figure size 432x288 with 1 Axes>"
      ]
     },
     "metadata": {
      "needs_background": "light"
     },
     "output_type": "display_data"
    }
   ],
   "source": [
    "chess=ChessBoard()\n",
    "chess.render()"
   ]
  },
  {
   "cell_type": "code",
   "execution_count": 64,
   "metadata": {},
   "outputs": [
    {
     "data": {
      "image/png": "[encoded data removed]",
      "text/plain": [
       "<Figure size 432x288 with 1 Axes>"
      ]
     },
     "metadata": {
      "needs_background": "light"
     },
     "output_type": "display_data"
    }
   ],
   "source": [
    "\"\"\"test_virtical_attack\"\"\"\n",
    "testChess=ChessBoard()\n",
    "testChess.add_blue(5,4)\n",
    "testChess.add_red(5,7)\n",
    "assert testChess.is_under_attack()==True\n",
    "\n",
    "testChess.render()\n",
    "    \n",
    "\n"
   ]
  },
  {
   "cell_type": "code",
   "execution_count": 65,
   "metadata": {},
   "outputs": [
    {
     "data": {
      "image/png": "[encoded data removed]",
      "text/plain": [
       "<Figure size 432x288 with 1 Axes>"
      ]
     },
     "metadata": {
      "needs_background": "light"
     },
     "output_type": "display_data"
    }
   ],
   "source": [
    "\"\"\"test_horizental_attack\"\"\"\n",
    "testChess=ChessBoard()\n",
    "testChess.add_blue(4,4)\n",
    "testChess.add_red(5,4)\n",
    "assert testChess.is_under_attack()==True\n",
    "\n",
    "testChess.render()\n",
    "   \n",
    "\n"
   ]
  },
  {
   "cell_type": "code",
   "execution_count": 66,
   "metadata": {},
   "outputs": [
    {
     "data": {
      "image/png": "[encoded data removed]",
      "text/plain": [
       "<Figure size 432x288 with 1 Axes>"
      ]
     },
     "metadata": {
      "needs_background": "light"
     },
     "output_type": "display_data"
    }
   ],
   "source": [
    "\"\"\"test_diagonal_attack\"\"\"\n",
    "testChess=ChessBoard()\n",
    "testChess.add_blue(5,5)\n",
    "testChess.add_red(4,4)\n",
    "assert testChess.is_under_attack()==True\n",
    "\n",
    "testChess.render()\n",
    "    \n"
   ]
  },
  {
   "cell_type": "code",
   "execution_count": 68,
   "metadata": {},
   "outputs": [
    {
     "name": "stdout",
     "output_type": "stream",
     "text": [
      "test_not_under_attack\n"
     ]
    },
    {
     "data": {
      "image/png": "[encoded data removed]",
      "text/plain": [
       "<Figure size 432x288 with 1 Axes>"
      ]
     },
     "metadata": {
      "needs_background": "light"
     },
     "output_type": "display_data"
    }
   ],
   "source": [
    "\"\"\"test_not_under_attack\"\"\"\n",
    "testChess=ChessBoard()\n",
    "testChess.add_blue(5,4)\n",
    "testChess.add_red(1,7)\n",
    "assert testChess.is_under_attack()==False\n",
    "\n",
    "testChess.render()\n",
    "print ('test_not_under_attack')\n"
   ]
  },
  {
   "cell_type": "code",
   "execution_count": null,
   "metadata": {},
   "outputs": [],
   "source": []
  },
  {
   "cell_type": "code",
   "execution_count": null,
   "metadata": {},
   "outputs": [],
   "source": []
  },
  {
   "cell_type": "code",
   "execution_count": null,
   "metadata": {},
   "outputs": [],
   "source": []
  }
 ],
 "metadata": {
  "interpreter": {
   "hash": "672ffbbeb51990b85e05d467efb1ec2ff449835064d05c77904fea717f78365b"
  },
  "kernelspec": {
   "display_name": "Python 3 (ipykernel)",
   "language": "python",
   "name": "python3"
  },
  "language_info": {
   "codemirror_mode": {
    "name": "ipython",
    "version": 3
   },
   "file_extension": ".py",
   "mimetype": "text/x-python",
   "name": "python",
   "nbconvert_exporter": "python",
   "pygments_lexer": "ipython3",
   "version": "3.9.5"
  }
 },
 "nbformat": 4,
 "nbformat_minor": 4
}
